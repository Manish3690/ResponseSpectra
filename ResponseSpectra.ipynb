{
  "cells": [
    {
      "cell_type": "markdown",
      "metadata": {
        "id": "view-in-github",
        "colab_type": "text"
      },
      "source": [
        "<a href=\"https://colab.research.google.com/github/Manish3690/ResponseSpectra/blob/main/ResponseSpectra.ipynb\" target=\"_parent\"><img src=\"https://colab.research.google.com/assets/colab-badge.svg\" alt=\"Open In Colab\"/></a>"
      ]
    },
    {
      "cell_type": "markdown",
      "metadata": {
        "id": "_vqFxN7aBFHQ"
      },
      "source": [
        "This code will be for the generation of response spectrum.\n",
        "\n",
        "\n",
        "---\n",
        "\n",
        "\n",
        "**Basic Theory**\n",
        "\n",
        "\n",
        "---\n",
        "\n",
        "\n",
        "  Pseudo-acceleration Response spectrum will be constructed based on many earthquake samples.\n",
        "  Consider a strructure of certain height,h and mass,m concentrated at the top.\n",
        "  Then, natural period of vibration, based on modal analysis, and damping ratio are selcted.\n",
        "  Deformational responses of the structural system is calculated.\n",
        "  Pseudo-acceleration= (2*pi/Tn)^2"
      ]
    },
    {
      "cell_type": "code",
      "execution_count": null,
      "metadata": {
        "id": "9SJcbyb5C8su"
      },
      "outputs": [],
      "source": [
        "import numpy as np\n",
        "import matplotlib.pyplot as plt\n",
        "import pandas as pd\n",
        "import math"
      ]
    },
    {
      "cell_type": "code",
      "execution_count": null,
      "metadata": {
        "id": "jjVVjMtNDUUo"
      },
      "outputs": [],
      "source": [
        "def TimePeriod(E,I,L,m):\n",
        "  k=3*E*I/(L**3)\n",
        "  nat_frrq=np.sqrt(k/m)\n",
        "  Tn=2*np.pi/nat_frrq\n",
        "  return Tn,nat_frrq,k\n",
        "\n",
        "\n",
        "\n",
        "def Newmark(earthquake, mass, damping_ratio, nat_frq, k, del_t):\n",
        "    \"\"\"\n",
        "    Perform dynamic analysis using the Newmark-beta method.\n",
        "\n",
        "    Parameters:\n",
        "    earthquake (list or np.array): Ground acceleration time history.\n",
        "    mass (float): Mass of the system.\n",
        "    damping_ratio (float): Damping ratio.\n",
        "    nat_frq (float): Natural frequency of the system.\n",
        "    k (float): Stiffness of the system.\n",
        "    del_t (float): Time step.\n",
        "\n",
        "    Returns:\n",
        "    u_max (float): maximum displacement.\n",
        "    \"\"\"\n",
        "    # Newmark parameters for average acceleration\n",
        "    alpha = 0.5\n",
        "    beta = 0.25\n",
        "\n",
        "    # System properties\n",
        "    c = 2 * damping_ratio * nat_frq * mass\n",
        "    k_app = k + alpha * c / (beta * del_t) + mass / (beta * del_t ** 2)\n",
        "\n",
        "    # Initialize arrays\n",
        "    n_steps = len(earthquake)\n",
        "    u = np.zeros(n_steps+1)  # Displacement\n",
        "    vel = np.zeros(n_steps+1)  # Velocity\n",
        "    acc = np.zeros(n_steps+1)  # Acceleration\n",
        "\n",
        "    # Effective force\n",
        "    for i in range(n_steps):\n",
        "        effective_force = (\n",
        "            earthquake[i] * mass * 9.81\n",
        "            + (mass / (beta * del_t ** 2) + alpha * c / (beta * del_t)) * u[i]\n",
        "            + (mass / (beta * del_t) + (alpha / beta - 1) * c) * vel[i]\n",
        "            + ((1 / (2 * beta) - 1) * mass + del_t * (alpha / (2 * beta) - 1) * c) * acc[i]\n",
        "        )\n",
        "        u[i+1] = effective_force / k_app\n",
        "        vel[i+1] = (\n",
        "            alpha / (beta * del_t) * (u[i+1] - u[i])\n",
        "            + (1 - alpha / beta) * vel[i]\n",
        "            + (1 - alpha / (2 * beta)) * del_t * acc[i]\n",
        "        )\n",
        "        acc[i] = (earthquake[i]*9.81*mass - c * vel[i] - k * u[i]) / mass\n",
        "\n",
        "    # return u, vel, acc\n",
        "    u_max=max(u)\n",
        "    return u_max\n"
      ]
    },
    {
      "cell_type": "code",
      "execution_count": null,
      "metadata": {
        "colab": {
          "base_uri": "https://localhost:8080/"
        },
        "collapsed": true,
        "id": "a8Nq-hH2EK2Q",
        "outputId": "5157d83e-6da1-4406-ccfd-c2b56cbae7d8"
      },
      "outputs": [
        {
          "output_type": "stream",
          "name": "stdout",
          "text": [
            "[0.006005690778882626, 0.08826526776720303, 0.21910485212496042, 0.38436420984848807, 0.5779521844892864, 0.7962014963272956, 1.0365864038780264, 1.2972292082386472, 1.5766625517404023, 1.8736985253937501, 2.187349753928851, 2.516778573734468, 2.86126261202118, 3.2201705272446928, 3.5929443495916917, 3.9790862770781223, 4.378148577805433, 4.789725717333557, 5.213448117663609, 5.648977137100994, 6.096000980014986, 6.554231326054234, 7.023400523823867, 7.503259232993254, 7.993574426692774, 8.494127686353828, 9.004713736139255, 9.52513917533872, 10.055221375616428, 10.594787516527035, 11.143673737775245, 11.701724390653974, 12.268791374222195, 12.844733544272874, 13.429416185138665, 14.022710535997467, 14.62449336465361, 15.234646582846358, 15.85305689802372, 16.479615497253928, 17.114217759558684, 17.75676299346427, 18.40715419699731, 19.065297837715857, 19.731103650675312, 20.404484452491644, 21.085355969889473, 21.77363668131561, 22.469247670365124, 23.172112489910806, 23.882157035951472, 24.599309430303236, 25.323499911352233, 26.054660732170316, 26.7927260653676, 27.53763191411975, 28.289316028864164, 29.0477178292089, 29.812778330642285, 30.584440075670337]\n"
          ]
        }
      ],
      "source": [
        "\n",
        "N=1\n",
        "KN=1e3*N\n",
        "m=1\n",
        "cm=1.e-2*m\n",
        "mm=1e-3*m\n",
        "Pa=N/m**2\n",
        "MPa=1e6*Pa\n",
        "\n",
        "\n",
        "\n",
        "E= 2.e5*MPa\n",
        "I= 301*cm**4\n",
        "di=102*mm\n",
        "do=115*mm\n",
        "L=0.1*m\n",
        "M= 1650.0 #kg  not used the mass of the column itself as mass is not much while compared to lumped mass\n",
        "Tn=0\n",
        "Time_array=[]\n",
        "Length_array=[]\n",
        "nat_frrq_array=[]\n",
        "K_array=[]\n",
        "while Tn<=30:\n",
        "  Tn, nat_frrq, K = TimePeriod(E,I,L,M)\n",
        "  L+=0.5\n",
        "  Length_array.append(L)\n",
        "  Time_array.append(Tn)\n",
        "  nat_frrq_array.append(nat_frrq)\n",
        "  K_array.append(K)\n",
        "print(Time_array)\n",
        "\n"
      ]
    },
    {
      "cell_type": "code",
      "execution_count": null,
      "metadata": {
        "id": "ZsLyQn1HE-Ru"
      },
      "outputs": [],
      "source": [
        "\n",
        "\n",
        "# Load earthquake data\n",
        "df = pd.read_csv(\"gorkha_dt 0.005.txt\")  # Ensure correct delimiter\n",
        "df.dropna(inplace=True)  # Remove NaN values\n",
        "\n",
        "# Convert to numpy array (assuming earthquake data is in the first column)\n",
        "# earthquake = df.iloc[:, 0]\n",
        "earthquake = df.to_numpy().flatten()  # If using pandas DataFrame\n",
        "\n",
        "# earthquake = earthquake[7000:7500]\n",
        "\n",
        "# System properties\n",
        "mass = M  # Define M beforehand\n",
        "damping_ratio = 0.05  # 5% damping\n",
        "del_t = 0.005  # Time step from data\n",
        "\n",
        "# Structural properties\n",
        "# ke = K_array[40]  # Select stiffness from K_array\n",
        "# nat_freq = nat_frrq_array[40]  # Select natural frequency from nat_frrq_array\n",
        "u_max=np.zeros(len(K_array))\n",
        "v_max=np.zeros(len(K_array))\n",
        "a_max=np.zeros(len(K_array))\n",
        "# Call the Newmark function\n",
        "for i in range(len(K_array)):\n",
        "  u_max[i] = Newmark(earthquake, mass, damping_ratio, nat_frrq_array[i], K_array[i], del_t)\n",
        "  v_max[i] = 2*math.pi*u_max[i]/Time_array[i]\n",
        "  a_max[i] = v_max[i]/Time_array[i]\n",
        "\n",
        "\n"
      ]
    },
    {
      "cell_type": "code",
      "execution_count": null,
      "metadata": {
        "colab": {
          "base_uri": "https://localhost:8080/",
          "height": 430
        },
        "id": "QdKoh8TlGsJe",
        "outputId": "2a82d43c-4b19-49ee-8177-76e14210b537"
      },
      "outputs": [
        {
          "output_type": "display_data",
          "data": {
            "text/plain": [
              "<Figure size 640x480 with 1 Axes>"
            ],
            "image/png": "[encoded data removed]"
          },
          "metadata": {}
        }
      ],
      "source": [
        "plt.plot(Time_array, a_max, linewidth=1, color= 'green')\n",
        "plt.show()"
      ]
    },
    {
      "cell_type": "code",
      "source": [],
      "metadata": {
        "id": "ESmOHv414SgS"
      },
      "execution_count": null,
      "outputs": []
    }
  ],
  "metadata": {
    "colab": {
      "provenance": [],
      "authorship_tag": "ABX9TyNji6i38SQSSiiTTWgEER8B",
      "include_colab_link": true
    },
    "kernelspec": {
      "display_name": "Python 3",
      "name": "python3"
    },
    "language_info": {
      "name": "python"
    }
  },
  "nbformat": 4,
  "nbformat_minor": 0
}